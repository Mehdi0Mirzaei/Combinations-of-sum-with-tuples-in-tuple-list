{
 "cells": [
  {
   "cell_type": "code",
   "execution_count": 13,
   "id": "3ca1e941",
   "metadata": {},
   "outputs": [
    {
     "name": "stdout",
     "output_type": "stream",
     "text": [
      "The original list : [(2, 4), (6, 7), (5, 1), (6, 10)]\n",
      "The Summation combinations are : [(8, 11), (7, 5), (8, 14), (11, 8), (12, 17), (11, 11)]\n"
     ]
    }
   ],
   "source": [
    "# Initialize list\n",
    "test_list = [(2, 4), (6, 7), (5, 1), (6, 10)]\n",
    " \n",
    "# Printing original list\n",
    "print(\"The original list : \" + str(test_list))\n",
    " \n",
    "# Summation combination in tuple lists\n",
    "# Using nested for loops\n",
    "res = []\n",
    "for i in range(len(test_list)):\n",
    "    for j in range(i+1, len(test_list)):\n",
    "        res.append((test_list[i][0]+test_list[j][0],\n",
    "                    test_list[i][1]+test_list[j][1]))\n",
    " # Printing result\n",
    "print(\"The Summation combinations are : \" + str(res))"
   ]
  },
  {
   "cell_type": "code",
   "execution_count": null,
   "id": "3839b8f8",
   "metadata": {},
   "outputs": [],
   "source": []
  }
 ],
 "metadata": {
  "kernelspec": {
   "display_name": "Python 3 (ipykernel)",
   "language": "python",
   "name": "python3"
  },
  "language_info": {
   "codemirror_mode": {
    "name": "ipython",
    "version": 3
   },
   "file_extension": ".py",
   "mimetype": "text/x-python",
   "name": "python",
   "nbconvert_exporter": "python",
   "pygments_lexer": "ipython3",
   "version": "3.9.13"
  }
 },
 "nbformat": 4,
 "nbformat_minor": 5
}
